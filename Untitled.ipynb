{
 "cells": [
  {
   "cell_type": "code",
   "execution_count": 1,
   "metadata": {},
   "outputs": [],
   "source": [
    "import pandas as pd\n",
    "import numpy as np\n",
    "import matplotlib.pyplot as plt\n",
    "import gc\n",
    "import time"
   ]
  },
  {
   "cell_type": "code",
   "execution_count": 2,
   "metadata": {},
   "outputs": [],
   "source": [
    "data=pd.read_csv('mnist_train.csv')\n",
    "# gc.collect()\n",
    "data2=pd.read_csv('mnist_test.csv')\n",
    "# gc.collect()\n",
    "data=np.array(data)\n",
    "# gc.collect()\n",
    "data2=np.array(data2)\n",
    "# gc.collect()"
   ]
  },
  {
   "cell_type": "code",
   "execution_count": 3,
   "metadata": {},
   "outputs": [],
   "source": [
    "x_train=data[:,1:]\n",
    "y_train=data[:,0]\n",
    "x_test=data2[:,1:]\n",
    "y_test=data2[:,0]"
   ]
  },
  {
   "cell_type": "code",
   "execution_count": 4,
   "metadata": {},
   "outputs": [],
   "source": [
    "def dist(x,y):\n",
    "#     gc.collect()\n",
    "    return(np.sqrt(sum((x-y)**2)))\n",
    "\n",
    "def func(x_train,y_train,query):\n",
    "    n=x_train.shape[0]\n",
    "    vals={}\n",
    "    for i in range(n):\n",
    "        distance=dist(query,x_train[i])\n",
    "        num=y_train[i]\n",
    "        if not num in vals:\n",
    "            vals[num]=distance\n",
    "        else:\n",
    "            vals[num]=vals[num]+distance\n",
    "    vals=sorted(vals.items(), key=lambda x: x[1])\n",
    "    gc.collect()\n",
    "    return vals[0][0]\n"
   ]
  },
  {
   "cell_type": "code",
   "execution_count": 5,
   "metadata": {},
   "outputs": [],
   "source": [
    "def func2(x_train,y_train,query,k=10):\n",
    "    n=x_train.shape[0]\n",
    "    vals=[]\n",
    "    for i in range(n):\n",
    "        distance=dist(query,x_train[i])\n",
    "        num=y_train[i]\n",
    "        vals.append((distance,y_train[i]))\n",
    "    vals=sorted(vals)\n",
    "    new_vals=vals[:k]\n",
    "    new_vals=np.array(new_vals)\n",
    "    arr=np.unique(new_vals,return_counts=True)\n",
    "    a=arr[1].argmax()\n",
    "    pred=arr[0][a]\n",
    "    return pred"
   ]
  },
  {
   "cell_type": "code",
   "execution_count": 6,
   "metadata": {},
   "outputs": [],
   "source": [
    "def check(x_train=None,y_train=None,x_test=None,y_test=None):\n",
    "    count=0\n",
    "    m=y_test.shape[0]\n",
    "    for i in range(m):\n",
    "        pred=func(x_train,y_train,x_test[i])\n",
    "        if pred==y_test[i]:\n",
    "            count+=1\n",
    "        else:\n",
    "            pass\n",
    "    result=(count/x_test.shape[0])*100\n",
    "    print('Accuracy of given Dataset is ',result,'%')\n",
    "    gc.collect()"
   ]
  },
  {
   "cell_type": "code",
   "execution_count": 7,
   "metadata": {},
   "outputs": [
    {
     "data": {
      "image/png": "[encoded data removed]",
      "text/plain": [
       "<Figure size 432x288 with 1 Axes>"
      ]
     },
     "metadata": {
      "needs_background": "light"
     },
     "output_type": "display_data"
    },
    {
     "name": "stdout",
     "output_type": "stream",
     "text": [
      "9.0\n"
     ]
    }
   ],
   "source": [
    "plt.imshow(x_test[7].reshape(28,28),cmap='gray')\n",
    "plt.show()\n",
    "print(func2(x_train,y_train,x_test[7]))\n"
   ]
  },
  {
   "cell_type": "code",
   "execution_count": 8,
   "metadata": {},
   "outputs": [
    {
     "name": "stdout",
     "output_type": "stream",
     "text": [
      "(10000, 784) (10000,)\n"
     ]
    }
   ],
   "source": [
    "print(x_test.shape,y_test.shape)\n"
   ]
  },
  {
   "cell_type": "code",
   "execution_count": null,
   "metadata": {},
   "outputs": [],
   "source": [
    "check(x_train,y_train,x_test,y_test)"
   ]
  },
  {
   "cell_type": "code",
   "execution_count": null,
   "metadata": {},
   "outputs": [],
   "source": [
    " x_test"
   ]
  },
  {
   "cell_type": "code",
   "execution_count": null,
   "metadata": {},
   "outputs": [],
   "source": []
  }
 ],
 "metadata": {
  "kernelspec": {
   "display_name": "Python 3",
   "language": "python",
   "name": "python3"
  },
  "language_info": {
   "codemirror_mode": {
    "name": "ipython",
    "version": 3
   },
   "file_extension": ".py",
   "mimetype": "text/x-python",
   "name": "python",
   "nbconvert_exporter": "python",
   "pygments_lexer": "ipython3",
   "version": "3.8.4"
  }
 },
 "nbformat": 4,
 "nbformat_minor": 4
}
